{
  "nbformat": 4,
  "nbformat_minor": 0,
  "metadata": {
    "colab": {
      "provenance": []
    },
    "kernelspec": {
      "name": "python3",
      "display_name": "Python 3"
    },
    "language_info": {
      "name": "python"
    }
  },
  "cells": [
    {
      "cell_type": "code",
      "execution_count": 2,
      "metadata": {
        "colab": {
          "base_uri": "https://localhost:8080/"
        },
        "id": "xrPVWpNFkgJr",
        "outputId": "14e5195c-bc44-419c-83ae-e44b25c89c68"
      },
      "outputs": [
        {
          "output_type": "stream",
          "name": "stdout",
          "text": [
            "Collecting uncertainties\n",
            "  Downloading uncertainties-3.2.3-py3-none-any.whl.metadata (7.0 kB)\n",
            "Downloading uncertainties-3.2.3-py3-none-any.whl (60 kB)\n",
            "\u001b[2K   \u001b[90m━━━━━━━━━━━━━━━━━━━━━━━━━━━━━━━━━━━━━━━━\u001b[0m \u001b[32m60.1/60.1 kB\u001b[0m \u001b[31m2.1 MB/s\u001b[0m eta \u001b[36m0:00:00\u001b[0m\n",
            "\u001b[?25hInstalling collected packages: uncertainties\n",
            "Successfully installed uncertainties-3.2.3\n"
          ]
        }
      ],
      "source": [
        "!pip install uncertainties"
      ]
    },
    {
      "cell_type": "code",
      "source": [
        "from uncertainties import ufloat\n",
        "from uncertainties.umath import *\n"
      ],
      "metadata": {
        "id": "iQTxKPhmkljf"
      },
      "execution_count": 3,
      "outputs": []
    },
    {
      "cell_type": "code",
      "source": [
        "L = ufloat(1262, 1)*1e-3 #mm\n",
        "s = ufloat(247, 2)*1e-3\n",
        "l = ufloat(125, 1)*1e-3 #mm\n",
        "h = ufloat(10, .1)* 1e-3\n",
        "g = ufloat(9.7949, 1e-4) #mm\n",
        "\n",
        "t1 = sqrt(2 * s * L / g / h)\n",
        "t2 = sqrt(2 * (s+l) * L / g / h)\n",
        "dt = t2 - t1\n",
        "\n",
        "dt"
      ],
      "metadata": {
        "colab": {
          "base_uri": "https://localhost:8080/"
        },
        "id": "I4UwXLAaXDb6",
        "outputId": "d165385e-33fb-457e-f72b-f46def9b0bb4"
      },
      "execution_count": 7,
      "outputs": [
        {
          "output_type": "execute_result",
          "data": {
            "text/plain": [
              "0.5732483021436607+/-0.005400081203236966"
            ]
          },
          "metadata": {},
          "execution_count": 7
        }
      ]
    }
  ]
}