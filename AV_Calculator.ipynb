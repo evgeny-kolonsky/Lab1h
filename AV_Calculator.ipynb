{
  "nbformat": 4,
  "nbformat_minor": 0,
  "metadata": {
    "colab": {
      "provenance": [],
      "include_colab_link": true
    },
    "kernelspec": {
      "name": "python3",
      "display_name": "Python 3"
    },
    "language_info": {
      "name": "python"
    }
  },
  "cells": [
    {
      "cell_type": "markdown",
      "metadata": {
        "id": "view-in-github",
        "colab_type": "text"
      },
      "source": [
        "<a href=\"https://colab.research.google.com/github/evgeny-kolonsky/Lab1h/blob/main/AV_Calculator.ipynb\" target=\"_parent\"><img src=\"https://colab.research.google.com/assets/colab-badge.svg\" alt=\"Open In Colab\"/></a>"
      ]
    },
    {
      "cell_type": "markdown",
      "source": [
        "# lab1h Average velocity experiment"
      ],
      "metadata": {
        "id": "ttmzMULMt5M4"
      }
    },
    {
      "cell_type": "code",
      "execution_count": 78,
      "metadata": {
        "colab": {
          "base_uri": "https://localhost:8080/"
        },
        "id": "xrPVWpNFkgJr",
        "outputId": "c97e5b72-e12f-4339-eeed-8d06b4eb66ba"
      },
      "outputs": [
        {
          "output_type": "stream",
          "name": "stdout",
          "text": [
            "Requirement already satisfied: uncertainties in /usr/local/lib/python3.11/dist-packages (3.2.3)\n"
          ]
        }
      ],
      "source": [
        "!pip install uncertainties"
      ]
    },
    {
      "cell_type": "code",
      "source": [
        "from uncertainties import ufloat\n",
        "from uncertainties.umath import *\n",
        "import numpy as np\n",
        "import matplotlib.pyplot as plt\n",
        "\n",
        "\n"
      ],
      "metadata": {
        "id": "iQTxKPhmkljf"
      },
      "execution_count": 79,
      "outputs": []
    },
    {
      "cell_type": "markdown",
      "source": [
        "## Expected time and velocity\n",
        "\n",
        "$$\n",
        "t = \\sqrt{\\frac{2 (s+l) L }{g h}} - \\sqrt{\\frac{2 s L }{g h}}\n",
        "$$\n",
        "\n",
        "$$\n",
        "v = \\frac{l}{t}\n",
        "$$"
      ],
      "metadata": {
        "id": "xxFMEaZZuC-w"
      }
    },
    {
      "cell_type": "code",
      "source": [
        "L = ufloat(1265, 1)*1e-3 #mm\n",
        "s = ufloat(325, 2)*1e-3\n",
        "l = ufloat(125, 1)*1e-3 #mm\n",
        "h = ufloat(14.5, .1)* 1e-3 #mm\n",
        "g = ufloat(9.7949, 1e-4)\n",
        "\n",
        "t = sqrt(2 * (s+l) * L / g / h) - sqrt(2 * s * L / g / h)\n",
        "print(f'Time of cart passing sensor: {t*1000} ms')\n",
        "print(f'Average velocity: {l/t*1e3} mm/s')"
      ],
      "metadata": {
        "colab": {
          "base_uri": "https://localhost:8080/"
        },
        "id": "I4UwXLAaXDb6",
        "outputId": "4cef9c40-8173-428a-d1df-7bbed840ab6a"
      },
      "execution_count": 77,
      "outputs": [
        {
          "output_type": "stream",
          "name": "stdout",
          "text": [
            "Time of cart passing sensor: 425+/-4 ms\n",
            "Average velocity: 294.0+/-1.3 mm/s\n"
          ]
        }
      ]
    },
    {
      "cell_type": "markdown",
      "source": [
        "## measured time and velocity"
      ],
      "metadata": {
        "id": "RcWee1LfubhK"
      }
    },
    {
      "cell_type": "code",
      "source": [
        "t = np.genfromtxt('yannaymichelle.txt', delimiter='\\t', usecols=[1], unpack=True)\n",
        "N = len(t)\n",
        "print(f'Number of measurements: {N}')\n",
        "sigma = np.std(t)\n",
        "print(f'Standard deviation of time: {sigma*1000} ms')\n",
        "mu = np.mean(t)\n",
        "print(f'Mean time: {mu*1000} ms')\n",
        "err = sigma / np.sqrt(N)\n",
        "print(f'Error of mean time: {err*1000} ms')\n",
        "t_measured = ufloat(mu, err)\n",
        "print(f'Measured time: {t_measured*1000} ms')\n",
        "print(f'Average velocity: {l/t_measured*1e3} mm/s')"
      ],
      "metadata": {
        "colab": {
          "base_uri": "https://localhost:8080/"
        },
        "id": "yuwKUZgRMQex",
        "outputId": "acedc9eb-ca4a-48ea-a807-39065b2f5c99"
      },
      "execution_count": 86,
      "outputs": [
        {
          "output_type": "stream",
          "name": "stdout",
          "text": [
            "Number of measurements: 100\n",
            "Standard deviation of time: 5.351514178248994 ms\n",
            "Mean time: 467.7360000000001 ms\n",
            "Error of mean time: 0.5351514178248995 ms\n",
            "Measured time: 467.7+/-0.5 ms\n",
            "Average velocity: 267.2+/-2.2 mm/s\n"
          ]
        }
      ]
    },
    {
      "cell_type": "code",
      "source": [],
      "metadata": {
        "id": "3c0MOWiDvdzo"
      },
      "execution_count": null,
      "outputs": []
    }
  ]
}